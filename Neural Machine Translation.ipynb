{
 "cells": [
  {
   "cell_type": "markdown",
   "metadata": {},
   "source": [
    "# Neural Machine Translation System"
   ]
  },
  {
   "cell_type": "markdown",
   "metadata": {},
   "source": [
    "> Machine translation is a challenging task that traditionally involves large statistical models developed using highly sophisticated linguistic knowledge.\n",
    "\n",
    "> Neural machine translation is the use of deep neural networks for the problem of machine translation."
   ]
  },
  {
   "cell_type": "markdown",
   "metadata": {},
   "source": [
    "# German to English Translation Dataset"
   ]
  },
  {
   "cell_type": "markdown",
   "metadata": {},
   "source": [
    ">we will use a dataset of German to English terms used as the basis for flashcards for language learning.\n",
    "\n",
    ">The dataset is available from the ManyThings.org website, with examples drawn from the Tatoeba Project. The dataset is comprised of German phrases and their English counterparts and is intended to be used with the Anki flashcard software.\n",
    "\n",
    ">You will have a file called deu.txt that contains 152,820 pairs of English to German phases, one pair per line with a tab separating the language\n",
    "\n",
    "> We will frame the prediction problem as given a sequence of words in German as input, translate or predict the sequence of words in English."
   ]
  },
  {
   "cell_type": "markdown",
   "metadata": {},
   "source": [
    "### Importing Libraries"
   ]
  },
  {
   "cell_type": "code",
   "execution_count": 1,
   "metadata": {},
   "outputs": [
    {
     "name": "stderr",
     "output_type": "stream",
     "text": [
      "Using TensorFlow backend.\n"
     ]
    }
   ],
   "source": [
    "import string\n",
    "import re\n",
    "from pickle import dump\n",
    "from pickle import load\n",
    "from unicodedata import normalize\n",
    "from numpy import array\n",
    "from numpy import argmax\n",
    "from numpy.random import rand\n",
    "from numpy.random import shuffle\n",
    "from keras.preprocessing.text import Tokenizer\n",
    "from keras.preprocessing.sequence import pad_sequences\n",
    "from keras.utils import to_categorical\n",
    "from keras.utils.vis_utils import plot_model\n",
    "from keras.models import Sequential\n",
    "from keras.layers import LSTM\n",
    "from keras.layers import Dense\n",
    "from keras.layers import Embedding\n",
    "from keras.layers import RepeatVector\n",
    "from keras.layers import TimeDistributed\n",
    "from keras.callbacks import ModelCheckpoint\n",
    "from keras.models import load_model\n",
    "from nltk.translate.bleu_score import corpus_bleu"
   ]
  },
  {
   "cell_type": "markdown",
   "metadata": {},
   "source": [
    "## Preparing the Text Data"
   ]
  },
  {
   "cell_type": "markdown",
   "metadata": {},
   "source": [
    ">For example, here are some observations I note from reviewing the raw data:\n",
    "    \n",
    "    There is punctuation.\n",
    "    The text contains uppercase and lowercase.\n",
    "    There are special characters in the German.\n",
    "    There are duplicate phrases in English with different translations in German.\n",
    "    The file is ordered by sentence length with very long sentences toward the end of the file."
   ]
  },
  {
   "cell_type": "markdown",
   "metadata": {},
   "source": [
    "### Clean Text"
   ]
  },
  {
   "cell_type": "markdown",
   "metadata": {},
   "source": [
    ">First, we must load the data in a way that preserves the Unicode German characters. The function below called load_doc() will load the file as a blob of text."
   ]
  },
  {
   "cell_type": "markdown",
   "metadata": {},
   "source": [
    "#### load doc into memory"
   ]
  },
  {
   "cell_type": "code",
   "execution_count": 2,
   "metadata": {},
   "outputs": [],
   "source": [
    "def load_doc(filename):\n",
    "    # open the file as read only\n",
    "    file = open(filename, mode='rt', encoding='utf-8')\n",
    "    # read all text\n",
    "    text = file.read()\n",
    "    # close the file\n",
    "    file.close()\n",
    "    return text"
   ]
  },
  {
   "cell_type": "markdown",
   "metadata": {},
   "source": [
    ">Each line contains a single pair of phrases, first English and then German, separated by a tab character.\n",
    "\n",
    ">We must split the loaded text by line and then by phrase. The function to_pairs() below will split the loaded text."
   ]
  },
  {
   "cell_type": "markdown",
   "metadata": {},
   "source": [
    "#### split a loaded document into sentences"
   ]
  },
  {
   "cell_type": "code",
   "execution_count": 3,
   "metadata": {},
   "outputs": [],
   "source": [
    "def to_pairs(doc):\n",
    "    lines = doc.strip().split('\\n')\n",
    "    pairs = [line.split('\\t') for line in  lines]\n",
    "    return pairs"
   ]
  },
  {
   "cell_type": "markdown",
   "metadata": {},
   "source": [
    ">The specific cleaning operations we will perform are as follows:\n",
    "\n",
    "    Remove all non-printable characters.\n",
    "    Remove all punctuation characters.\n",
    "    Normalize all Unicode characters to ASCII (e.g. Latin characters).\n",
    "    Normalize the case to lowercase.\n",
    "    Remove any remaining tokens that are not alphabetic.\n",
    "    We will perform these operations on each phrase for each pair in the loaded dataset.\n",
    "\n",
    ">The clean_pairs() function below implements these operations."
   ]
  },
  {
   "cell_type": "markdown",
   "metadata": {},
   "source": [
    "#### clean a list of lines"
   ]
  },
  {
   "cell_type": "code",
   "execution_count": 4,
   "metadata": {},
   "outputs": [],
   "source": [
    "def clean_pairs(lines):\n",
    "    cleaned = list()\n",
    "    # prepare regex for char filtering\n",
    "    re_print = re.compile('[^%s]' % re.escape(string.printable))\n",
    "    # prepare translation table for removing punctuation\n",
    "    table = str.maketrans('', '', string.punctuation)\n",
    "    for pair in lines:\n",
    "        clean_pair = list()\n",
    "        for line in pair:\n",
    "            # normalize unicode characters\n",
    "            line = normalize('NFD', line).encode('ascii', 'ignore')\n",
    "            line = line.decode('UTF-8')\n",
    "            # tokenize on white space\n",
    "            line = line.split()\n",
    "            # convert to lowercase\n",
    "            line = [word.lower() for word in line]\n",
    "            # remove punctuation from each token\n",
    "            line = [word.translate(table) for word in line]\n",
    "            # remove non-printable chars form each token\n",
    "            line = [re_print.sub('', w) for w in line]\n",
    "            # remove tokens with numbers in them\n",
    "            line = [word for word in line if word.isalpha()]\n",
    "            # store as string\n",
    "            clean_pair.append(' '.join(line))\n",
    "        cleaned.append(clean_pair)\n",
    "    return array(cleaned)"
   ]
  },
  {
   "cell_type": "markdown",
   "metadata": {},
   "source": [
    ">Now that the data has been cleaned, we can save the list of phrase pairs to a file ready for use.\n",
    "\n",
    ">The function save_clean_data() uses the pickle API to save the list of clean text to file."
   ]
  },
  {
   "cell_type": "markdown",
   "metadata": {},
   "source": [
    "#### save a list of clean sentences to file"
   ]
  },
  {
   "cell_type": "code",
   "execution_count": 5,
   "metadata": {},
   "outputs": [],
   "source": [
    "def save_clean_data(sentences, filename):\n",
    "    dump(sentences, open(filename, 'wb'))\n",
    "    print('Saved: %s' % filename)"
   ]
  },
  {
   "cell_type": "markdown",
   "metadata": {},
   "source": [
    "#### load dataset"
   ]
  },
  {
   "cell_type": "code",
   "execution_count": 6,
   "metadata": {},
   "outputs": [],
   "source": [
    "filename = 'deu.txt'\n",
    "doc = load_doc(filename)"
   ]
  },
  {
   "cell_type": "markdown",
   "metadata": {},
   "source": [
    "#### split into english-german pairs"
   ]
  },
  {
   "cell_type": "code",
   "execution_count": 7,
   "metadata": {},
   "outputs": [],
   "source": [
    "pairs = to_pairs(doc)"
   ]
  },
  {
   "cell_type": "markdown",
   "metadata": {},
   "source": [
    "#### clean sentences"
   ]
  },
  {
   "cell_type": "code",
   "execution_count": 8,
   "metadata": {},
   "outputs": [],
   "source": [
    "clean_pairs = clean_pairs(pairs)"
   ]
  },
  {
   "cell_type": "markdown",
   "metadata": {},
   "source": [
    "#### save clean pairs to file"
   ]
  },
  {
   "cell_type": "code",
   "execution_count": 9,
   "metadata": {},
   "outputs": [
    {
     "name": "stdout",
     "output_type": "stream",
     "text": [
      "Saved: english-german.pkl\n"
     ]
    }
   ],
   "source": [
    "save_clean_data(clean_pairs, 'english-german.pkl')"
   ]
  },
  {
   "cell_type": "markdown",
   "metadata": {},
   "source": [
    ">Running the example creates a new file in the current working directory with the cleaned text called english-german.pkl."
   ]
  },
  {
   "cell_type": "markdown",
   "metadata": {},
   "source": [
    "#### spot check"
   ]
  },
  {
   "cell_type": "markdown",
   "metadata": {},
   "source": [
    ">Some examples of the clean text are printed for us to evaluate at the end of the run to confirm that the clean operations"
   ]
  },
  {
   "cell_type": "code",
   "execution_count": 10,
   "metadata": {},
   "outputs": [
    {
     "name": "stdout",
     "output_type": "stream",
     "text": [
      "[go] => [geh]\n",
      "[hi] => [hallo]\n",
      "[hi] => [gru gott]\n",
      "[run] => [lauf]\n",
      "[run] => [lauf]\n",
      "[wow] => [potzdonner]\n",
      "[wow] => [donnerwetter]\n",
      "[fire] => [feuer]\n",
      "[help] => [hilfe]\n",
      "[help] => [zu hulf]\n",
      "[stop] => [stopp]\n",
      "[wait] => [warte]\n",
      "[wait] => [warte]\n",
      "[begin] => [fang an]\n",
      "[go on] => [mach weiter]\n",
      "[hello] => [hallo]\n",
      "[hurry] => [beeil dich]\n",
      "[hurry] => [schnell]\n",
      "[i hid] => [ich versteckte mich]\n",
      "[i hid] => [ich habe mich versteckt]\n",
      "[i ran] => [ich rannte]\n",
      "[i see] => [ich verstehe]\n",
      "[i see] => [aha]\n",
      "[i try] => [ich probiere es]\n",
      "[i won] => [ich hab gewonnen]\n",
      "[i won] => [ich habe gewonnen]\n",
      "[relax] => [entspann dich]\n",
      "[shoot] => [feuer]\n",
      "[shoot] => [schie]\n",
      "[smile] => [lacheln]\n",
      "[ask me] => [frag mich]\n",
      "[ask me] => [fragt mich]\n",
      "[ask me] => [fragen sie mich]\n",
      "[attack] => [angriff]\n",
      "[attack] => [attacke]\n",
      "[cheers] => [zum wohl]\n",
      "[eat it] => [iss es]\n",
      "[eat up] => [iss auf]\n",
      "[eat up] => [iss auf]\n",
      "[freeze] => [keine bewegung]\n",
      "[freeze] => [stehenbleiben]\n",
      "[go now] => [geh jetzt]\n",
      "[got it] => [verstanden]\n",
      "[got it] => [aha]\n",
      "[got it] => [ich habs]\n",
      "[got it] => [kapiert]\n",
      "[got it] => [verstanden]\n",
      "[got it] => [einverstanden]\n",
      "[he ran] => [er rannte]\n",
      "[he ran] => [er lief]\n",
      "[hop in] => [mach mit]\n",
      "[hop in] => [spring rein]\n",
      "[hug me] => [druck mich]\n",
      "[hug me] => [nimm mich in den arm]\n",
      "[hug me] => [umarme mich]\n",
      "[i care] => [mir ist es wichtig]\n",
      "[i fell] => [ich fiel]\n",
      "[i fell] => [ich fiel hin]\n",
      "[i fell] => [ich sturzte]\n",
      "[i fell] => [ich bin hingefallen]\n",
      "[i fell] => [ich bin gesturzt]\n",
      "[i fled] => [ich fluchtete]\n",
      "[i fled] => [ich bin gefluchtet]\n",
      "[i know] => [ich wei]\n",
      "[i lied] => [ich habe gelogen]\n",
      "[i lost] => [ich habe verloren]\n",
      "[i paid] => [ich habe bezahlt]\n",
      "[i paid] => [ich zahlte]\n",
      "[i sang] => [ich sang]\n",
      "[i spit] => [ich spuckte]\n",
      "[i spit] => [ich habe gespuckt]\n",
      "[i swim] => [ich schwimme]\n",
      "[i wept] => [ich weinte]\n",
      "[i wept] => [ich habe geweint]\n",
      "[im] => [ich bin jahre alt]\n",
      "[im] => [ich bin]\n",
      "[im ok] => [mir gehts gut]\n",
      "[im ok] => [es geht mir gut]\n",
      "[im up] => [ich bin wach]\n",
      "[im up] => [ich bin auf]\n",
      "[no way] => [unmoglich]\n",
      "[no way] => [das kommt nicht in frage]\n",
      "[no way] => [das gibts doch nicht]\n",
      "[no way] => [ausgeschlossen]\n",
      "[no way] => [in keinster weise]\n",
      "[really] => [wirklich]\n",
      "[really] => [echt]\n",
      "[really] => [im ernst]\n",
      "[thanks] => [danke]\n",
      "[try it] => [versuchs]\n",
      "[we try] => [wir versuchen es]\n",
      "[we won] => [wir haben gewonnen]\n",
      "[why me] => [warum ich]\n",
      "[ask tom] => [frag tom]\n",
      "[ask tom] => [fragen sie tom]\n",
      "[ask tom] => [fragt tom]\n",
      "[awesome] => [fantastisch]\n",
      "[be cool] => [entspann dich]\n",
      "[be fair] => [sei nicht ungerecht]\n",
      "[be fair] => [sei fair]\n"
     ]
    }
   ],
   "source": [
    "for i in range(100):\n",
    "    print('[%s] => [%s]' % (clean_pairs[i,0], clean_pairs[i,1]))"
   ]
  },
  {
   "cell_type": "markdown",
   "metadata": {},
   "source": [
    "### Split Text"
   ]
  },
  {
   "cell_type": "markdown",
   "metadata": {},
   "source": [
    ">The clean data contains a little over 150,000 phrase pairs and some of the pairs toward the end of the file are very long.\n",
    "\n",
    ">This is a good number of examples for developing a small translation model. The complexity of the model increases with the number of examples, length of phrases, and size of the vocabulary.\n",
    "\n",
    ">Although we have a good dataset for modeling translation, we will simplify the problem slightly to dramatically reduce the size of the model required, and in turn the training time required to fit the model.\n",
    "\n",
    ">We will simplify the problem by reducing the dataset to the first 10,000 examples in the file; these will be the shortest phrases in the dataset.\n",
    "\n",
    ">Further, we will then stake the first 9,000 of those as examples for training and the remaining 1,000 examples to test the fit model."
   ]
  },
  {
   "cell_type": "markdown",
   "metadata": {},
   "source": [
    "#### load a clean dataset"
   ]
  },
  {
   "cell_type": "code",
   "execution_count": 11,
   "metadata": {},
   "outputs": [],
   "source": [
    "def load_clean_sentences(filename):\n",
    "    return load(open(filename, 'rb'))"
   ]
  },
  {
   "cell_type": "markdown",
   "metadata": {},
   "source": [
    "#### save a list of clean sentences to file"
   ]
  },
  {
   "cell_type": "code",
   "execution_count": 12,
   "metadata": {},
   "outputs": [],
   "source": [
    "def save_clean_data(sentences, filename):\n",
    "    dump(sentences, open(filename, 'wb'))\n",
    "    print('Saved: %s' % filename)"
   ]
  },
  {
   "cell_type": "markdown",
   "metadata": {},
   "source": [
    "#### load dataset"
   ]
  },
  {
   "cell_type": "code",
   "execution_count": 13,
   "metadata": {},
   "outputs": [],
   "source": [
    "raw_dataset = load_clean_sentences('english-german.pkl')"
   ]
  },
  {
   "cell_type": "markdown",
   "metadata": {},
   "source": [
    "#### reduce dataset size"
   ]
  },
  {
   "cell_type": "code",
   "execution_count": 14,
   "metadata": {},
   "outputs": [],
   "source": [
    "n_sentences = 10000\n",
    "dataset = raw_dataset[:n_sentences, :]\n",
    "# random shuffle\n",
    "shuffle(dataset)"
   ]
  },
  {
   "cell_type": "markdown",
   "metadata": {},
   "source": [
    "#### split into train/test"
   ]
  },
  {
   "cell_type": "code",
   "execution_count": 15,
   "metadata": {},
   "outputs": [],
   "source": [
    "train, test = dataset[:9000], dataset[9000:]"
   ]
  },
  {
   "cell_type": "markdown",
   "metadata": {},
   "source": [
    "#### save"
   ]
  },
  {
   "cell_type": "code",
   "execution_count": 16,
   "metadata": {},
   "outputs": [
    {
     "name": "stdout",
     "output_type": "stream",
     "text": [
      "Saved: english-german-both.pkl\n",
      "Saved: english-german-train.pkl\n",
      "Saved: english-german-test.pkl\n"
     ]
    }
   ],
   "source": [
    "save_clean_data(dataset, 'english-german-both.pkl')\n",
    "save_clean_data(train, 'english-german-train.pkl')\n",
    "save_clean_data(test, 'english-german-test.pkl')"
   ]
  },
  {
   "cell_type": "markdown",
   "metadata": {},
   "source": [
    ">Running the example creates three new files: \n",
    "    \n",
    "    english-german-both.pkl that contains all of the train and test examples that we can use to define the parameters of the problem, such as max phrase lengths and the vocabulary\n",
    "    english-german-train.pkl and english-german-test.pkl files for the train and test dataset."
   ]
  },
  {
   "cell_type": "markdown",
   "metadata": {},
   "source": [
    "## Train Neural Translation Model"
   ]
  },
  {
   "cell_type": "markdown",
   "metadata": {},
   "source": [
    ">This involves both loading and preparing the clean text data ready for modeling and defining and training the model on the prepared data."
   ]
  },
  {
   "cell_type": "markdown",
   "metadata": {},
   "source": [
    ">The function below named load_clean_sentences() can be used to load the train, test, and both datasets in turn."
   ]
  },
  {
   "cell_type": "markdown",
   "metadata": {},
   "source": [
    "#### load a clean dataset"
   ]
  },
  {
   "cell_type": "code",
   "execution_count": 17,
   "metadata": {},
   "outputs": [],
   "source": [
    "def load_clean_sentences(filename):\n",
    "    return load(open(filename, 'rb'))"
   ]
  },
  {
   "cell_type": "markdown",
   "metadata": {},
   "source": [
    ">We will use the 'both\" or combination of the train and test datasets to define the maximum length and vocabulary of the problem.\n",
    "\n",
    "\n",
    ">We can use the Keras Tokenize class to map words to integers, as needed for modeling. We will use separate tokenizer for the English sequences and the German sequences. The function below-named create_tokenizer() will train a tokenizer on a list of phrases."
   ]
  },
  {
   "cell_type": "markdown",
   "metadata": {},
   "source": [
    "#### fit a tokenizer"
   ]
  },
  {
   "cell_type": "code",
   "execution_count": 18,
   "metadata": {},
   "outputs": [],
   "source": [
    "def create_tokenizer(lines):\n",
    "    tokenizer = Tokenizer()\n",
    "    tokenizer.fit_on_texts(lines)\n",
    "    return tokenizer"
   ]
  },
  {
   "cell_type": "markdown",
   "metadata": {},
   "source": [
    "#### max sentence length"
   ]
  },
  {
   "cell_type": "markdown",
   "metadata": {},
   "source": [
    ">function named max_length() below will find the length of the longest sequence in a list of phrases."
   ]
  },
  {
   "cell_type": "code",
   "execution_count": 19,
   "metadata": {},
   "outputs": [],
   "source": [
    "def max_length(lines):\n",
    "    return max(len(line.split()) for line in lines)"
   ]
  },
  {
   "cell_type": "markdown",
   "metadata": {},
   "source": [
    "#### encode and pad sequences"
   ]
  },
  {
   "cell_type": "markdown",
   "metadata": {},
   "source": [
    ">Each input and output sequence must be encoded to integers and padded to the maximum phrase length. \n",
    "\n",
    ">This is because we will use a word embedding for the input sequences and one hot encode the output sequences The function below named encode_sequences() will perform these operations and return the result."
   ]
  },
  {
   "cell_type": "code",
   "execution_count": 20,
   "metadata": {},
   "outputs": [],
   "source": [
    "def encode_sequences(tokenizer, length, lines):\n",
    "    # integer encode sequences\n",
    "    X = tokenizer.texts_to_sequences(lines)\n",
    "    # pad sequences with 0 values\n",
    "    X = pad_sequences(X, maxlen=length, padding='post')\n",
    "    return X"
   ]
  },
  {
   "cell_type": "markdown",
   "metadata": {},
   "source": [
    ">The output sequence needs to be one-hot encoded. This is because the model will predict the probability of each word in the vocabulary as output.\n",
    "\n",
    ">The function encode_output() below will one-hot encode English output sequences."
   ]
  },
  {
   "cell_type": "markdown",
   "metadata": {},
   "source": [
    "#### one hot encode target sequence"
   ]
  },
  {
   "cell_type": "code",
   "execution_count": 21,
   "metadata": {},
   "outputs": [],
   "source": [
    "def encode_output(sequences, vocab_size):\n",
    "    ylist = list()\n",
    "    for sequence in sequences:\n",
    "        encoded = to_categorical(sequence, num_classes=vocab_size)\n",
    "        ylist.append(encoded)\n",
    "    y = array(ylist)\n",
    "    y = y.reshape(sequences.shape[0], sequences.shape[1], vocab_size)\n",
    "    return y"
   ]
  },
  {
   "cell_type": "markdown",
   "metadata": {},
   "source": [
    "#### define NMT model"
   ]
  },
  {
   "cell_type": "markdown",
   "metadata": {},
   "source": [
    ">We will use an encoder-decoder LSTM model on this problem. In this architecture, the input sequence is encoded by a front-end model called the encoder then decoded word by word by a backend model called the decoder.\n",
    "\n",
    ">The function define_model() below defines the model and takes a number of arguments used to configure the model, such as the size of the input and output vocabularies, the maximum length of input and output phrases, and the number of memory units used to configure the model.\n",
    "\n",
    ">The model is trained using the efficient Adam approach to stochastic gradient descent and minimizes the categorical loss function because we have framed the prediction problem as multi-class classification.\n",
    "\n",
    ">The model configuration was not optimized for this problem, meaning that there is plenty of opportunity for us to tune it and lift the skill of the translations."
   ]
  },
  {
   "cell_type": "code",
   "execution_count": 22,
   "metadata": {},
   "outputs": [],
   "source": [
    "def define_model(src_vocab, tar_vocab, src_timesteps, tar_timesteps, n_units):\n",
    "    model = Sequential()\n",
    "    model.add(Embedding(src_vocab, n_units, input_length=src_timesteps, mask_zero=True))\n",
    "    model.add(LSTM(n_units))\n",
    "    model.add(RepeatVector(tar_timesteps))\n",
    "    model.add(LSTM(n_units, return_sequences=True))\n",
    "    model.add(TimeDistributed(Dense(tar_vocab, activation='softmax')))\n",
    "    return model"
   ]
  },
  {
   "cell_type": "markdown",
   "metadata": {},
   "source": [
    "#### load datasets"
   ]
  },
  {
   "cell_type": "code",
   "execution_count": 23,
   "metadata": {},
   "outputs": [],
   "source": [
    "dataset = load_clean_sentences('english-german-both.pkl')\n",
    "train = load_clean_sentences('english-german-train.pkl')\n",
    "test = load_clean_sentences('english-german-test.pkl')"
   ]
  },
  {
   "cell_type": "markdown",
   "metadata": {},
   "source": [
    ">We can call these functions with the combined dataset to prepare tokenizers, vocabulary sizes, and maximum lengths for both the English and German phrases."
   ]
  },
  {
   "cell_type": "markdown",
   "metadata": {},
   "source": [
    "#### prepare english tokenizer"
   ]
  },
  {
   "cell_type": "code",
   "execution_count": 24,
   "metadata": {},
   "outputs": [
    {
     "name": "stdout",
     "output_type": "stream",
     "text": [
      "English Vocabulary Size: 2241\n",
      "English Max Length: 5\n"
     ]
    }
   ],
   "source": [
    "eng_tokenizer = create_tokenizer(dataset[:, 0])\n",
    "eng_vocab_size = len(eng_tokenizer.word_index) + 1\n",
    "eng_length = max_length(dataset[:, 0])\n",
    "print('English Vocabulary Size: %d' % eng_vocab_size)\n",
    "print('English Max Length: %d' % (eng_length))"
   ]
  },
  {
   "cell_type": "markdown",
   "metadata": {},
   "source": [
    "#### prepare german tokenizer"
   ]
  },
  {
   "cell_type": "code",
   "execution_count": 25,
   "metadata": {},
   "outputs": [
    {
     "name": "stdout",
     "output_type": "stream",
     "text": [
      "German Vocabulary Size: 3572\n",
      "German Max Length: 9\n"
     ]
    }
   ],
   "source": [
    "ger_tokenizer = create_tokenizer(dataset[:, 1])\n",
    "ger_vocab_size = len(ger_tokenizer.word_index) + 1\n",
    "ger_length = max_length(dataset[:, 1])\n",
    "print('German Vocabulary Size: %d' % ger_vocab_size)\n",
    "print('German Max Length: %d' % (ger_length))"
   ]
  },
  {
   "cell_type": "markdown",
   "metadata": {},
   "source": [
    "#### prepare training data"
   ]
  },
  {
   "cell_type": "code",
   "execution_count": 26,
   "metadata": {},
   "outputs": [],
   "source": [
    "trainX = encode_sequences(ger_tokenizer, ger_length, train[:, 1])\n",
    "trainY = encode_sequences(eng_tokenizer, eng_length, train[:, 0])\n",
    "trainY = encode_output(trainY, eng_vocab_size)"
   ]
  },
  {
   "cell_type": "markdown",
   "metadata": {},
   "source": [
    "#### prepare validation data"
   ]
  },
  {
   "cell_type": "code",
   "execution_count": 27,
   "metadata": {},
   "outputs": [],
   "source": [
    "testX = encode_sequences(ger_tokenizer, ger_length, test[:, 1])\n",
    "testY = encode_sequences(eng_tokenizer, eng_length, test[:, 0])\n",
    "testY = encode_output(testY, eng_vocab_size)"
   ]
  },
  {
   "cell_type": "markdown",
   "metadata": {},
   "source": [
    "#### define model"
   ]
  },
  {
   "cell_type": "code",
   "execution_count": 28,
   "metadata": {},
   "outputs": [
    {
     "name": "stdout",
     "output_type": "stream",
     "text": [
      "WARNING:tensorflow:From C:\\Users\\ajitemmanuel\\Anaconda3\\lib\\site-packages\\tensorflow\\python\\ops\\resource_variable_ops.py:435: colocate_with (from tensorflow.python.framework.ops) is deprecated and will be removed in a future version.\n",
      "Instructions for updating:\n",
      "Colocations handled automatically by placer.\n"
     ]
    }
   ],
   "source": [
    "model = define_model(ger_vocab_size, eng_vocab_size, ger_length, eng_length, 256)\n",
    "model.compile(optimizer='adam', loss='categorical_crossentropy')"
   ]
  },
  {
   "cell_type": "markdown",
   "metadata": {},
   "source": [
    "#### summarize defined model"
   ]
  },
  {
   "cell_type": "code",
   "execution_count": 29,
   "metadata": {},
   "outputs": [
    {
     "name": "stdout",
     "output_type": "stream",
     "text": [
      "Model: \"sequential_1\"\n",
      "_________________________________________________________________\n",
      "Layer (type)                 Output Shape              Param #   \n",
      "=================================================================\n",
      "embedding_1 (Embedding)      (None, 9, 256)            914432    \n",
      "_________________________________________________________________\n",
      "lstm_1 (LSTM)                (None, 256)               525312    \n",
      "_________________________________________________________________\n",
      "repeat_vector_1 (RepeatVecto (None, 5, 256)            0         \n",
      "_________________________________________________________________\n",
      "lstm_2 (LSTM)                (None, 5, 256)            525312    \n",
      "_________________________________________________________________\n",
      "time_distributed_1 (TimeDist (None, 5, 2241)           575937    \n",
      "=================================================================\n",
      "Total params: 2,540,993\n",
      "Trainable params: 2,540,993\n",
      "Non-trainable params: 0\n",
      "_________________________________________________________________\n",
      "None\n"
     ]
    }
   ],
   "source": [
    "print(model.summary())"
   ]
  },
  {
   "cell_type": "markdown",
   "metadata": {},
   "source": [
    "#### plot model"
   ]
  },
  {
   "cell_type": "code",
   "execution_count": 30,
   "metadata": {},
   "outputs": [
    {
     "data": {
      "image/png": "[encoded data removed]",
      "text/plain": [
       "<IPython.core.display.Image object>"
      ]
     },
     "execution_count": 30,
     "metadata": {},
     "output_type": "execute_result"
    }
   ],
   "source": [
    "plot_model(model, to_file='model.png', show_shapes=True)"
   ]
  },
  {
   "cell_type": "markdown",
   "metadata": {},
   "source": [
    "#### fit model"
   ]
  },
  {
   "cell_type": "markdown",
   "metadata": {},
   "source": [
    ">We train the model for 40 epochs and a batch size of 64 examples.\n",
    "\n",
    ">We use checkpointing to ensure that each time the model skill on the test set improves, the model is saved to file."
   ]
  },
  {
   "cell_type": "code",
   "execution_count": 31,
   "metadata": {
    "scrolled": false
   },
   "outputs": [
    {
     "name": "stdout",
     "output_type": "stream",
     "text": [
      "WARNING:tensorflow:From C:\\Users\\ajitemmanuel\\Anaconda3\\lib\\site-packages\\tensorflow\\python\\ops\\math_ops.py:3066: to_int32 (from tensorflow.python.ops.math_ops) is deprecated and will be removed in a future version.\n",
      "Instructions for updating:\n",
      "Use tf.cast instead.\n",
      "Train on 9000 samples, validate on 1000 samples\n",
      "Epoch 1/40\n",
      " - 35s - loss: 4.1370 - val_loss: 3.3374\n",
      "\n",
      "Epoch 00001: val_loss improved from inf to 3.33741, saving model to model.h5\n",
      "Epoch 2/40\n",
      " - 30s - loss: 3.2214 - val_loss: 3.1921\n",
      "\n",
      "Epoch 00002: val_loss improved from 3.33741 to 3.19208, saving model to model.h5\n",
      "Epoch 3/40\n",
      " - 30s - loss: 3.0843 - val_loss: 3.1283\n",
      "\n",
      "Epoch 00003: val_loss improved from 3.19208 to 3.12830, saving model to model.h5\n",
      "Epoch 4/40\n",
      " - 30s - loss: 2.9473 - val_loss: 2.9814\n",
      "\n",
      "Epoch 00004: val_loss improved from 3.12830 to 2.98143, saving model to model.h5\n",
      "Epoch 5/40\n",
      " - 31s - loss: 2.7800 - val_loss: 2.8794\n",
      "\n",
      "Epoch 00005: val_loss improved from 2.98143 to 2.87937, saving model to model.h5\n",
      "Epoch 6/40\n",
      " - 31s - loss: 2.6384 - val_loss: 2.7688\n",
      "\n",
      "Epoch 00006: val_loss improved from 2.87937 to 2.76885, saving model to model.h5\n",
      "Epoch 7/40\n",
      " - 32s - loss: 2.4956 - val_loss: 2.6780\n",
      "\n",
      "Epoch 00007: val_loss improved from 2.76885 to 2.67801, saving model to model.h5\n",
      "Epoch 8/40\n",
      " - 32s - loss: 2.3471 - val_loss: 2.5728\n",
      "\n",
      "Epoch 00008: val_loss improved from 2.67801 to 2.57275, saving model to model.h5\n",
      "Epoch 9/40\n",
      " - 32s - loss: 2.1986 - val_loss: 2.4614\n",
      "\n",
      "Epoch 00009: val_loss improved from 2.57275 to 2.46143, saving model to model.h5\n",
      "Epoch 10/40\n",
      " - 32s - loss: 2.0547 - val_loss: 2.3631\n",
      "\n",
      "Epoch 00010: val_loss improved from 2.46143 to 2.36308, saving model to model.h5\n",
      "Epoch 11/40\n",
      " - 32s - loss: 1.9204 - val_loss: 2.2930\n",
      "\n",
      "Epoch 00011: val_loss improved from 2.36308 to 2.29304, saving model to model.h5\n",
      "Epoch 12/40\n",
      " - 32s - loss: 1.7986 - val_loss: 2.2188\n",
      "\n",
      "Epoch 00012: val_loss improved from 2.29304 to 2.21882, saving model to model.h5\n",
      "Epoch 13/40\n",
      " - 32s - loss: 1.6832 - val_loss: 2.1742\n",
      "\n",
      "Epoch 00013: val_loss improved from 2.21882 to 2.17416, saving model to model.h5\n",
      "Epoch 14/40\n",
      " - 32s - loss: 1.5731 - val_loss: 2.1141\n",
      "\n",
      "Epoch 00014: val_loss improved from 2.17416 to 2.11408, saving model to model.h5\n",
      "Epoch 15/40\n",
      " - 32s - loss: 1.4644 - val_loss: 2.0754\n",
      "\n",
      "Epoch 00015: val_loss improved from 2.11408 to 2.07542, saving model to model.h5\n",
      "Epoch 16/40\n",
      " - 32s - loss: 1.3625 - val_loss: 2.0360\n",
      "\n",
      "Epoch 00016: val_loss improved from 2.07542 to 2.03604, saving model to model.h5\n",
      "Epoch 17/40\n",
      " - 32s - loss: 1.2674 - val_loss: 2.0003\n",
      "\n",
      "Epoch 00017: val_loss improved from 2.03604 to 2.00025, saving model to model.h5\n",
      "Epoch 18/40\n",
      " - 32s - loss: 1.1752 - val_loss: 1.9655\n",
      "\n",
      "Epoch 00018: val_loss improved from 2.00025 to 1.96549, saving model to model.h5\n",
      "Epoch 19/40\n",
      " - 32s - loss: 1.0877 - val_loss: 1.9333\n",
      "\n",
      "Epoch 00019: val_loss improved from 1.96549 to 1.93329, saving model to model.h5\n",
      "Epoch 20/40\n",
      " - 32s - loss: 1.0027 - val_loss: 1.9262\n",
      "\n",
      "Epoch 00020: val_loss improved from 1.93329 to 1.92616, saving model to model.h5\n",
      "Epoch 21/40\n",
      " - 32s - loss: 0.9236 - val_loss: 1.8907\n",
      "\n",
      "Epoch 00021: val_loss improved from 1.92616 to 1.89074, saving model to model.h5\n",
      "Epoch 22/40\n",
      " - 32s - loss: 0.8477 - val_loss: 1.8713\n",
      "\n",
      "Epoch 00022: val_loss improved from 1.89074 to 1.87133, saving model to model.h5\n",
      "Epoch 23/40\n",
      " - 32s - loss: 0.7762 - val_loss: 1.8587\n",
      "\n",
      "Epoch 00023: val_loss improved from 1.87133 to 1.85868, saving model to model.h5\n",
      "Epoch 24/40\n",
      " - 32s - loss: 0.7114 - val_loss: 1.8501\n",
      "\n",
      "Epoch 00024: val_loss improved from 1.85868 to 1.85006, saving model to model.h5\n",
      "Epoch 25/40\n",
      " - 33s - loss: 0.6497 - val_loss: 1.8196\n",
      "\n",
      "Epoch 00025: val_loss improved from 1.85006 to 1.81961, saving model to model.h5\n",
      "Epoch 26/40\n",
      " - 32s - loss: 0.5928 - val_loss: 1.8124\n",
      "\n",
      "Epoch 00026: val_loss improved from 1.81961 to 1.81238, saving model to model.h5\n",
      "Epoch 27/40\n",
      " - 32s - loss: 0.5418 - val_loss: 1.7939\n",
      "\n",
      "Epoch 00027: val_loss improved from 1.81238 to 1.79390, saving model to model.h5\n",
      "Epoch 28/40\n",
      " - 32s - loss: 0.4953 - val_loss: 1.7898\n",
      "\n",
      "Epoch 00028: val_loss improved from 1.79390 to 1.78978, saving model to model.h5\n",
      "Epoch 29/40\n",
      " - 33s - loss: 0.4516 - val_loss: 1.7918\n",
      "\n",
      "Epoch 00029: val_loss did not improve from 1.78978\n",
      "Epoch 30/40\n",
      " - 33s - loss: 0.4151 - val_loss: 1.7873\n",
      "\n",
      "Epoch 00030: val_loss improved from 1.78978 to 1.78734, saving model to model.h5\n",
      "Epoch 31/40\n",
      " - 32s - loss: 0.3797 - val_loss: 1.7928\n",
      "\n",
      "Epoch 00031: val_loss did not improve from 1.78734\n",
      "Epoch 32/40\n",
      " - 32s - loss: 0.3502 - val_loss: 1.8016\n",
      "\n",
      "Epoch 00032: val_loss did not improve from 1.78734\n",
      "Epoch 33/40\n",
      " - 32s - loss: 0.3216 - val_loss: 1.7813\n",
      "\n",
      "Epoch 00033: val_loss improved from 1.78734 to 1.78133, saving model to model.h5\n",
      "Epoch 34/40\n",
      " - 32s - loss: 0.2975 - val_loss: 1.7928\n",
      "\n",
      "Epoch 00034: val_loss did not improve from 1.78133\n",
      "Epoch 35/40\n",
      " - 33s - loss: 0.2732 - val_loss: 1.8004\n",
      "\n",
      "Epoch 00035: val_loss did not improve from 1.78133\n",
      "Epoch 36/40\n",
      " - 35s - loss: 0.2535 - val_loss: 1.7984\n",
      "\n",
      "Epoch 00036: val_loss did not improve from 1.78133\n",
      "Epoch 37/40\n",
      " - 32s - loss: 0.2350 - val_loss: 1.8076\n",
      "\n",
      "Epoch 00037: val_loss did not improve from 1.78133\n",
      "Epoch 38/40\n",
      " - 32s - loss: 0.2193 - val_loss: 1.8173\n",
      "\n",
      "Epoch 00038: val_loss did not improve from 1.78133\n",
      "Epoch 39/40\n",
      " - 32s - loss: 0.2052 - val_loss: 1.8105\n",
      "\n",
      "Epoch 00039: val_loss did not improve from 1.78133\n",
      "Epoch 40/40\n",
      " - 33s - loss: 0.1931 - val_loss: 1.8195\n",
      "\n",
      "Epoch 00040: val_loss did not improve from 1.78133\n"
     ]
    },
    {
     "data": {
      "text/plain": [
       "<keras.callbacks.callbacks.History at 0x1b3a35bf5f8>"
      ]
     },
     "execution_count": 31,
     "metadata": {},
     "output_type": "execute_result"
    }
   ],
   "source": [
    "filename = 'model.h5'\n",
    "checkpoint = ModelCheckpoint(filename, monitor='val_loss', verbose=1, save_best_only=True, mode='min')\n",
    "model.fit(trainX, trainY, epochs=40, batch_size=64, validation_data=(testX, testY), callbacks=[checkpoint], verbose=2)"
   ]
  },
  {
   "cell_type": "markdown",
   "metadata": {},
   "source": [
    "## Evaluate Neural Translation Model"
   ]
  },
  {
   "cell_type": "markdown",
   "metadata": {},
   "source": [
    ">We will evaluate the model on the train and the test dataset.\n",
    "\n",
    ">The model should perform very well on the train dataset and ideally have been generalized to perform well on the test dataset.\n",
    "\n",
    ">Ideally, we would use a separate validation dataset to help with model selection during training instead of the test set."
   ]
  },
  {
   "cell_type": "markdown",
   "metadata": {},
   "source": [
    "#### map an integer to a word"
   ]
  },
  {
   "cell_type": "markdown",
   "metadata": {},
   "source": [
    ">The function below, named word_for_id(), will perform this reverse mapping."
   ]
  },
  {
   "cell_type": "code",
   "execution_count": 32,
   "metadata": {},
   "outputs": [],
   "source": [
    "def word_for_id(integer, tokenizer):\n",
    "    for word, index in tokenizer.word_index.items():\n",
    "        if index == integer:\n",
    "            return word\n",
    "    return None"
   ]
  },
  {
   "cell_type": "markdown",
   "metadata": {},
   "source": [
    ">We can perform this mapping for each integer in the translation and return the result as a string of words"
   ]
  },
  {
   "cell_type": "markdown",
   "metadata": {},
   "source": [
    "#### generate target given source sequence"
   ]
  },
  {
   "cell_type": "markdown",
   "metadata": {},
   "source": [
    ">function predict_sequence() below performs this operation for a single encoded source phrase"
   ]
  },
  {
   "cell_type": "code",
   "execution_count": 33,
   "metadata": {},
   "outputs": [],
   "source": [
    "def predict_sequence(model, tokenizer, source):\n",
    "    prediction = model.predict(source, verbose=0)[0]\n",
    "    integers = [argmax(vector) for vector in prediction]\n",
    "    target = list()\n",
    "    for i in integers:\n",
    "        word = word_for_id(i, tokenizer)\n",
    "        if word is None:\n",
    "            break\n",
    "        target.append(word)\n",
    "    return ' '.join(target)"
   ]
  },
  {
   "cell_type": "markdown",
   "metadata": {},
   "source": [
    "#### evaluate the skill of the model"
   ]
  },
  {
   "cell_type": "markdown",
   "metadata": {},
   "source": [
    ">Evaluation involves two steps: first generating a translated output sequence, and then repeating this process for many input examples and summarizing the skill of the model across multiple cases.\n",
    "\n",
    ">Starting with inference, the model can predict the entire output sequence in a one-shot manner."
   ]
  },
  {
   "cell_type": "code",
   "execution_count": 34,
   "metadata": {},
   "outputs": [],
   "source": [
    "def evaluate_model(model, tokenizer, sources, raw_dataset):\n",
    "    actual, predicted = list(), list()\n",
    "    for i, source in enumerate(sources):\n",
    "        # translate encoded source text\n",
    "        source = source.reshape((1, source.shape[0]))\n",
    "        translation = predict_sequence(model, eng_tokenizer, source)\n",
    "        raw_target, raw_src, test = raw_dataset[i]\n",
    "        if i < 10:\n",
    "            print('src=[%s], target=[%s], predicted=[%s]' % (raw_src, raw_target, translation))\n",
    "        actual.append([raw_target.split()])\n",
    "        predicted.append(translation.split())\n",
    "    # calculate BLEU score\n",
    "    print('BLEU-1: %f' % corpus_bleu(actual, predicted, weights=(1.0, 0, 0, 0)))\n",
    "    print('BLEU-2: %f' % corpus_bleu(actual, predicted, weights=(0.5, 0.5, 0, 0)))\n",
    "    print('BLEU-3: %f' % corpus_bleu(actual, predicted, weights=(0.3, 0.3, 0.3, 0)))\n",
    "    print('BLEU-4: %f' % corpus_bleu(actual, predicted, weights=(0.25, 0.25, 0.25, 0.25)))"
   ]
  },
  {
   "cell_type": "markdown",
   "metadata": {},
   "source": [
    ">we can repeat this for each source phrase in a dataset and compare the predicted result to the expected target phrase in English.\n",
    "\n",
    ">We can print some of these comparisons to screen to get an idea of how the model performs in practice.\n",
    "\n",
    ">We will also calculate the BLEU scores to get a quantitative idea of how well the model has performed."
   ]
  },
  {
   "cell_type": "markdown",
   "metadata": {},
   "source": [
    ">evaluate_model() function above implements this, calling the above predict_sequence() function for each phrase in a provided dataset."
   ]
  },
  {
   "cell_type": "markdown",
   "metadata": {},
   "source": [
    "#### best model saved during training must be loaded"
   ]
  },
  {
   "cell_type": "code",
   "execution_count": 35,
   "metadata": {},
   "outputs": [],
   "source": [
    "# load model\n",
    "model = load_model('model.h5')"
   ]
  },
  {
   "cell_type": "markdown",
   "metadata": {},
   "source": [
    "#### load datasets"
   ]
  },
  {
   "cell_type": "code",
   "execution_count": 36,
   "metadata": {},
   "outputs": [],
   "source": [
    "dataset = load_clean_sentences('english-german-both.pkl')\n",
    "train = load_clean_sentences('english-german-train.pkl')\n",
    "test = load_clean_sentences('english-german-test.pkl')"
   ]
  },
  {
   "cell_type": "markdown",
   "metadata": {},
   "source": [
    "#### prepare english tokenizer"
   ]
  },
  {
   "cell_type": "code",
   "execution_count": 37,
   "metadata": {},
   "outputs": [],
   "source": [
    "eng_tokenizer = create_tokenizer(dataset[:, 0])\n",
    "eng_vocab_size = len(eng_tokenizer.word_index) + 1\n",
    "eng_length = max_length(dataset[:, 0])"
   ]
  },
  {
   "cell_type": "markdown",
   "metadata": {},
   "source": [
    "#### prepare german tokenizer"
   ]
  },
  {
   "cell_type": "code",
   "execution_count": 38,
   "metadata": {},
   "outputs": [],
   "source": [
    "ger_tokenizer = create_tokenizer(dataset[:, 1])\n",
    "ger_vocab_size = len(ger_tokenizer.word_index) + 1\n",
    "ger_length = max_length(dataset[:, 1])"
   ]
  },
  {
   "cell_type": "markdown",
   "metadata": {},
   "source": [
    "#### prepare data"
   ]
  },
  {
   "cell_type": "code",
   "execution_count": 39,
   "metadata": {},
   "outputs": [],
   "source": [
    "trainX = encode_sequences(ger_tokenizer, ger_length, train[:, 1])\n",
    "testX = encode_sequences(ger_tokenizer, ger_length, test[:, 1])"
   ]
  },
  {
   "cell_type": "markdown",
   "metadata": {},
   "source": [
    "#### test on some training sequences"
   ]
  },
  {
   "cell_type": "code",
   "execution_count": 40,
   "metadata": {},
   "outputs": [
    {
     "name": "stdout",
     "output_type": "stream",
     "text": [
      "train\n",
      "src=[konnt ihr helfen], target=[can you help], predicted=[can you help]\n",
      "src=[er ist mein feind], target=[he is my enemy], predicted=[he is my enemy]\n",
      "src=[unterschreiben sie hier], target=[sign here], predicted=[sign here]\n",
      "src=[druckt mir die daumen], target=[wish me luck], predicted=[wish me luck]\n",
      "src=[ich habe mich ubergeben], target=[i threw up], predicted=[i threw up]\n",
      "src=[tom ist in panik geraten], target=[tom panicked], predicted=[tom panicked]\n",
      "src=[bleib gelassen], target=[keep cool], predicted=[keep cool]\n",
      "src=[ich bin], target=[im], predicted=[im bleeding]\n",
      "src=[du schuldest mir was], target=[you owe me], predicted=[you owe me]\n",
      "src=[er ist schauspieler], target=[he is an actor], predicted=[he is an actor]\n",
      "BLEU-1: 0.905413\n",
      "BLEU-2: 0.868479\n",
      "BLEU-3: 0.769475\n",
      "BLEU-4: 0.435577\n"
     ]
    }
   ],
   "source": [
    "print('train')\n",
    "evaluate_model(model, eng_tokenizer, trainX, train)"
   ]
  },
  {
   "cell_type": "markdown",
   "metadata": {},
   "source": [
    "#### test on some test sequences"
   ]
  },
  {
   "cell_type": "code",
   "execution_count": 41,
   "metadata": {},
   "outputs": [
    {
     "name": "stdout",
     "output_type": "stream",
     "text": [
      "test\n",
      "src=[ich brauche freunde], target=[i need friends], predicted=[i need rock]\n",
      "src=[los gehts], target=[here we go], predicted=[go go it]\n",
      "src=[ich habe sie gebaut], target=[i built it], predicted=[i built it]\n",
      "src=[ich bin geschieden], target=[i am divorced], predicted=[im greedy]\n",
      "src=[beginnen sie noch einmal], target=[start again], predicted=[start again]\n",
      "src=[das ist ein scherz], target=[thats a joke], predicted=[this is a joke]\n",
      "src=[uberlass es ihm], target=[let him do it], predicted=[let it to him]\n",
      "src=[wir versuchen es], target=[we try], predicted=[well know it]\n",
      "src=[setz dich], target=[sit down], predicted=[sit a]\n",
      "src=[ich habe nachgeschaut], target=[ive checked], predicted=[i got kids]\n",
      "BLEU-1: 0.569107\n",
      "BLEU-2: 0.452451\n",
      "BLEU-3: 0.369568\n",
      "BLEU-4: 0.174259\n"
     ]
    }
   ],
   "source": [
    "print('test')\n",
    "evaluate_model(model, eng_tokenizer, testX, test)"
   ]
  },
  {
   "cell_type": "code",
   "execution_count": null,
   "metadata": {},
   "outputs": [],
   "source": []
  }
 ],
 "metadata": {
  "kernelspec": {
   "display_name": "Python 3",
   "language": "python",
   "name": "python3"
  },
  "language_info": {
   "codemirror_mode": {
    "name": "ipython",
    "version": 3
   },
   "file_extension": ".py",
   "mimetype": "text/x-python",
   "name": "python",
   "nbconvert_exporter": "python",
   "pygments_lexer": "ipython3",
   "version": "3.7.1"
  }
 },
 "nbformat": 4,
 "nbformat_minor": 2
}
